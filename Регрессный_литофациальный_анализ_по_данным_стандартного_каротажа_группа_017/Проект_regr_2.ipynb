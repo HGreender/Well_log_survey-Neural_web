{
 "cells": [
  {
   "cell_type": "code",
   "execution_count": 2,
   "id": "1e42b6a6",
   "metadata": {},
   "outputs": [],
   "source": [
    "from sklearn import datasets\n",
    "from sklearn.model_selection import train_test_split, GridSearchCV, RepeatedKFold\n",
    "from sklearn.metrics import balanced_accuracy_score, precision_recall_curve, confusion_matrix, classification_report, f1_score\n",
    "from sklearn.metrics import r2_score, mean_squared_error\n",
    "from sklearn.preprocessing import MinMaxScaler\n",
    "from sklearn.neural_network import MLPRegressor\n",
    "import pandas as pd\n",
    "import seaborn as sns\n",
    "import matplotlib.pyplot as plt\n",
    "%matplotlib inline"
   ]
  },
  {
   "cell_type": "code",
   "execution_count": 3,
   "id": "f03e84a8",
   "metadata": {},
   "outputs": [
    {
     "data": {
      "text/html": [
       "<div>\n",
       "<style scoped>\n",
       "    .dataframe tbody tr th:only-of-type {\n",
       "        vertical-align: middle;\n",
       "    }\n",
       "\n",
       "    .dataframe tbody tr th {\n",
       "        vertical-align: top;\n",
       "    }\n",
       "\n",
       "    .dataframe thead th {\n",
       "        text-align: right;\n",
       "    }\n",
       "</style>\n",
       "<table border=\"1\" class=\"dataframe\">\n",
       "  <thead>\n",
       "    <tr style=\"text-align: right;\">\n",
       "      <th></th>\n",
       "      <th>DEPT</th>\n",
       "      <th>PS</th>\n",
       "      <th>PZ</th>\n",
       "      <th>GK</th>\n",
       "      <th>NGK</th>\n",
       "      <th>DS</th>\n",
       "      <th>LIT</th>\n",
       "    </tr>\n",
       "  </thead>\n",
       "  <tbody>\n",
       "    <tr>\n",
       "      <th>0</th>\n",
       "      <td>826.2</td>\n",
       "      <td>61.38</td>\n",
       "      <td>6.65</td>\n",
       "      <td>12.58</td>\n",
       "      <td>1.127</td>\n",
       "      <td>0.2140</td>\n",
       "      <td>18</td>\n",
       "    </tr>\n",
       "    <tr>\n",
       "      <th>1</th>\n",
       "      <td>826.4</td>\n",
       "      <td>58.82</td>\n",
       "      <td>6.39</td>\n",
       "      <td>12.05</td>\n",
       "      <td>1.160</td>\n",
       "      <td>0.2190</td>\n",
       "      <td>18</td>\n",
       "    </tr>\n",
       "    <tr>\n",
       "      <th>2</th>\n",
       "      <td>826.6</td>\n",
       "      <td>59.46</td>\n",
       "      <td>7.16</td>\n",
       "      <td>11.43</td>\n",
       "      <td>1.191</td>\n",
       "      <td>0.2295</td>\n",
       "      <td>18</td>\n",
       "    </tr>\n",
       "    <tr>\n",
       "      <th>3</th>\n",
       "      <td>826.8</td>\n",
       "      <td>58.82</td>\n",
       "      <td>8.44</td>\n",
       "      <td>10.97</td>\n",
       "      <td>1.223</td>\n",
       "      <td>0.2450</td>\n",
       "      <td>18</td>\n",
       "    </tr>\n",
       "    <tr>\n",
       "      <th>4</th>\n",
       "      <td>827.0</td>\n",
       "      <td>56.90</td>\n",
       "      <td>10.23</td>\n",
       "      <td>10.59</td>\n",
       "      <td>1.250</td>\n",
       "      <td>0.2500</td>\n",
       "      <td>18</td>\n",
       "    </tr>\n",
       "    <tr>\n",
       "      <th>...</th>\n",
       "      <td>...</td>\n",
       "      <td>...</td>\n",
       "      <td>...</td>\n",
       "      <td>...</td>\n",
       "      <td>...</td>\n",
       "      <td>...</td>\n",
       "      <td>...</td>\n",
       "    </tr>\n",
       "    <tr>\n",
       "      <th>245</th>\n",
       "      <td>875.2</td>\n",
       "      <td>36.76</td>\n",
       "      <td>67.00</td>\n",
       "      <td>4.83</td>\n",
       "      <td>1.655</td>\n",
       "      <td>0.1980</td>\n",
       "      <td>91</td>\n",
       "    </tr>\n",
       "    <tr>\n",
       "      <th>246</th>\n",
       "      <td>875.4</td>\n",
       "      <td>37.72</td>\n",
       "      <td>73.01</td>\n",
       "      <td>4.83</td>\n",
       "      <td>1.682</td>\n",
       "      <td>0.1970</td>\n",
       "      <td>91</td>\n",
       "    </tr>\n",
       "    <tr>\n",
       "      <th>247</th>\n",
       "      <td>875.6</td>\n",
       "      <td>38.04</td>\n",
       "      <td>75.44</td>\n",
       "      <td>4.78</td>\n",
       "      <td>1.697</td>\n",
       "      <td>0.1980</td>\n",
       "      <td>53</td>\n",
       "    </tr>\n",
       "    <tr>\n",
       "      <th>248</th>\n",
       "      <td>875.8</td>\n",
       "      <td>38.68</td>\n",
       "      <td>85.67</td>\n",
       "      <td>4.91</td>\n",
       "      <td>1.688</td>\n",
       "      <td>0.2000</td>\n",
       "      <td>53</td>\n",
       "    </tr>\n",
       "    <tr>\n",
       "      <th>249</th>\n",
       "      <td>876.0</td>\n",
       "      <td>38.68</td>\n",
       "      <td>95.90</td>\n",
       "      <td>4.99</td>\n",
       "      <td>1.670</td>\n",
       "      <td>0.2025</td>\n",
       "      <td>53</td>\n",
       "    </tr>\n",
       "  </tbody>\n",
       "</table>\n",
       "<p>250 rows × 7 columns</p>\n",
       "</div>"
      ],
      "text/plain": [
       "      DEPT     PS     PZ     GK    NGK      DS  LIT\n",
       "0    826.2  61.38   6.65  12.58  1.127  0.2140   18\n",
       "1    826.4  58.82   6.39  12.05  1.160  0.2190   18\n",
       "2    826.6  59.46   7.16  11.43  1.191  0.2295   18\n",
       "3    826.8  58.82   8.44  10.97  1.223  0.2450   18\n",
       "4    827.0  56.90  10.23  10.59  1.250  0.2500   18\n",
       "..     ...    ...    ...    ...    ...     ...  ...\n",
       "245  875.2  36.76  67.00   4.83  1.655  0.1980   91\n",
       "246  875.4  37.72  73.01   4.83  1.682  0.1970   91\n",
       "247  875.6  38.04  75.44   4.78  1.697  0.1980   53\n",
       "248  875.8  38.68  85.67   4.91  1.688  0.2000   53\n",
       "249  876.0  38.68  95.90   4.99  1.670  0.2025   53\n",
       "\n",
       "[250 rows x 7 columns]"
      ]
     },
     "execution_count": 3,
     "metadata": {},
     "output_type": "execute_result"
    }
   ],
   "source": [
    "#загрузка данных\n",
    "\n",
    "file_list = ['learning_2.csv']\n",
    "data_set = pd.concat([pd.read_csv(f) for f in file_list], ignore_index=True)\n",
    "data_set\n",
    "\n",
    "\n",
    "\n",
    "\n",
    "\n",
    "#iris = datasets.load_iris()\n",
    "#iris_df = pd.DataFrame(iris.data, columns= iris.feature_names)\n",
    "#iris_df['target'] = iris.target\n",
    "#iris_df['name'] = iris_df.target.apply(lambda x : iris.target_names[x])\n",
    "#iris_df"
   ]
  },
  {
   "cell_type": "code",
   "execution_count": 4,
   "id": "f1c05a42",
   "metadata": {},
   "outputs": [],
   "source": [
    "X = data_set[['PS', 'PZ', 'GK', 'NGK', 'DS']]\n",
    "Y = data_set['LIT']"
   ]
  },
  {
   "cell_type": "code",
   "execution_count": 5,
   "id": "ce63cda8",
   "metadata": {},
   "outputs": [],
   "source": [
    "#разбиваем набор данных на обучающую и тестовую выборку\n",
    "X_train, X_test, y_train, y_test = train_test_split(X, Y, test_size=0.2, random_state=42)"
   ]
  },
  {
   "cell_type": "code",
   "execution_count": 6,
   "id": "9715ffcb",
   "metadata": {},
   "outputs": [
    {
     "name": "stdout",
     "output_type": "stream",
     "text": [
      "Отмасштабированная обучающая выборка:\n",
      "[[0.39684814 0.51691564 0.15441176 0.80057389 0.00343643]\n",
      " [0.21370583 0.73879613 0.01348039 0.68292683 0.03780069]\n",
      " [0.         0.44661687 0.07843137 0.66857963 0.03092784]\n",
      " [0.47325692 0.3427065  0.80269608 0.6025825  0.05360825]\n",
      " [0.64875836 0.58710457 0.13848039 0.7374462  0.00687285]]\n",
      "Отмасштабированная тестовая выборка:\n",
      "[[0.60291309 0.51691564 0.14460784 0.67718795 0.01030928]\n",
      " [0.43505253 0.07304482 0.70833333 0.32281205 0.12714777]\n",
      " [0.54202483 0.02811951 0.76470588 0.18794835 0.04123711]\n",
      " [0.30539637 0.02251757 0.85661765 0.13199426 0.06872852]\n",
      " [0.38920726 0.12642794 0.78676471 0.27833572 0.07216495]]\n"
     ]
    }
   ],
   "source": [
    "#Проведем предварительную обработку данных\n",
    "#MinMaxScaler сдвигает данные таким образом, что все признаки находились строго в диапазоне от 0 до 1\n",
    "scaler = MinMaxScaler()\n",
    "#подгоняем scaler на обучающем наборе данных и масштабируем обучающую и тестовую выборку\n",
    "X_train_scaled = scaler.fit_transform(X_train)\n",
    "X_test_scaled = scaler.transform(X_test)\n",
    "print(\"Отмасштабированная обучающая выборка:\\n{}\".format(X_train_scaled[:5]))\n",
    "print(\"Отмасштабированная тестовая выборка:\\n{}\".format(X_test_scaled[:5]))"
   ]
  },
  {
   "cell_type": "code",
   "execution_count": 10,
   "id": "28bda07b",
   "metadata": {},
   "outputs": [],
   "source": [
    "#решетчатый поиск\n",
    "mlp = MLPRegressor(max_iter=100000000, activation='logistic', solver='sgd', learning_rate='adaptive', random_state=42)\n",
    "cvc = RepeatedKFold(n_splits=10, n_repeats=5, random_state=42)\n",
    "#словарь параметров для перекрестной проверки\n",
    "param_grid = {'alpha': [0.1, 1], 'hidden_layer_sizes': [(40, ), (50, ), (60, )]}\n",
    "#перекрестная проверка и подбор лучших параметров\n",
    "grid_search = GridSearchCV(mlp, param_grid, cv=cvc, verbose=5, n_jobs=-1)\n"
   ]
  },
  {
   "cell_type": "code",
   "execution_count": 11,
   "id": "9374f864",
   "metadata": {},
   "outputs": [
    {
     "name": "stdout",
     "output_type": "stream",
     "text": [
      "Fitting 50 folds for each of 6 candidates, totalling 300 fits\n"
     ]
    },
    {
     "data": {
      "text/html": [
       "<style>#sk-container-id-2 {color: black;background-color: white;}#sk-container-id-2 pre{padding: 0;}#sk-container-id-2 div.sk-toggleable {background-color: white;}#sk-container-id-2 label.sk-toggleable__label {cursor: pointer;display: block;width: 100%;margin-bottom: 0;padding: 0.3em;box-sizing: border-box;text-align: center;}#sk-container-id-2 label.sk-toggleable__label-arrow:before {content: \"▸\";float: left;margin-right: 0.25em;color: #696969;}#sk-container-id-2 label.sk-toggleable__label-arrow:hover:before {color: black;}#sk-container-id-2 div.sk-estimator:hover label.sk-toggleable__label-arrow:before {color: black;}#sk-container-id-2 div.sk-toggleable__content {max-height: 0;max-width: 0;overflow: hidden;text-align: left;background-color: #f0f8ff;}#sk-container-id-2 div.sk-toggleable__content pre {margin: 0.2em;color: black;border-radius: 0.25em;background-color: #f0f8ff;}#sk-container-id-2 input.sk-toggleable__control:checked~div.sk-toggleable__content {max-height: 200px;max-width: 100%;overflow: auto;}#sk-container-id-2 input.sk-toggleable__control:checked~label.sk-toggleable__label-arrow:before {content: \"▾\";}#sk-container-id-2 div.sk-estimator input.sk-toggleable__control:checked~label.sk-toggleable__label {background-color: #d4ebff;}#sk-container-id-2 div.sk-label input.sk-toggleable__control:checked~label.sk-toggleable__label {background-color: #d4ebff;}#sk-container-id-2 input.sk-hidden--visually {border: 0;clip: rect(1px 1px 1px 1px);clip: rect(1px, 1px, 1px, 1px);height: 1px;margin: -1px;overflow: hidden;padding: 0;position: absolute;width: 1px;}#sk-container-id-2 div.sk-estimator {font-family: monospace;background-color: #f0f8ff;border: 1px dotted black;border-radius: 0.25em;box-sizing: border-box;margin-bottom: 0.5em;}#sk-container-id-2 div.sk-estimator:hover {background-color: #d4ebff;}#sk-container-id-2 div.sk-parallel-item::after {content: \"\";width: 100%;border-bottom: 1px solid gray;flex-grow: 1;}#sk-container-id-2 div.sk-label:hover label.sk-toggleable__label {background-color: #d4ebff;}#sk-container-id-2 div.sk-serial::before {content: \"\";position: absolute;border-left: 1px solid gray;box-sizing: border-box;top: 0;bottom: 0;left: 50%;z-index: 0;}#sk-container-id-2 div.sk-serial {display: flex;flex-direction: column;align-items: center;background-color: white;padding-right: 0.2em;padding-left: 0.2em;position: relative;}#sk-container-id-2 div.sk-item {position: relative;z-index: 1;}#sk-container-id-2 div.sk-parallel {display: flex;align-items: stretch;justify-content: center;background-color: white;position: relative;}#sk-container-id-2 div.sk-item::before, #sk-container-id-2 div.sk-parallel-item::before {content: \"\";position: absolute;border-left: 1px solid gray;box-sizing: border-box;top: 0;bottom: 0;left: 50%;z-index: -1;}#sk-container-id-2 div.sk-parallel-item {display: flex;flex-direction: column;z-index: 1;position: relative;background-color: white;}#sk-container-id-2 div.sk-parallel-item:first-child::after {align-self: flex-end;width: 50%;}#sk-container-id-2 div.sk-parallel-item:last-child::after {align-self: flex-start;width: 50%;}#sk-container-id-2 div.sk-parallel-item:only-child::after {width: 0;}#sk-container-id-2 div.sk-dashed-wrapped {border: 1px dashed gray;margin: 0 0.4em 0.5em 0.4em;box-sizing: border-box;padding-bottom: 0.4em;background-color: white;}#sk-container-id-2 div.sk-label label {font-family: monospace;font-weight: bold;display: inline-block;line-height: 1.2em;}#sk-container-id-2 div.sk-label-container {text-align: center;}#sk-container-id-2 div.sk-container {/* jupyter's `normalize.less` sets `[hidden] { display: none; }` but bootstrap.min.css set `[hidden] { display: none !important; }` so we also need the `!important` here to be able to override the default hidden behavior on the sphinx rendered scikit-learn.org. See: https://github.com/scikit-learn/scikit-learn/issues/21755 */display: inline-block !important;position: relative;}#sk-container-id-2 div.sk-text-repr-fallback {display: none;}</style><div id=\"sk-container-id-2\" class=\"sk-top-container\"><div class=\"sk-text-repr-fallback\"><pre>GridSearchCV(cv=RepeatedKFold(n_repeats=5, n_splits=10, random_state=42),\n",
       "             estimator=MLPRegressor(activation=&#x27;logistic&#x27;,\n",
       "                                    learning_rate=&#x27;adaptive&#x27;,\n",
       "                                    max_iter=100000000, random_state=42,\n",
       "                                    solver=&#x27;sgd&#x27;),\n",
       "             n_jobs=-1,\n",
       "             param_grid={&#x27;alpha&#x27;: [0.1, 1],\n",
       "                         &#x27;hidden_layer_sizes&#x27;: [(40,), (50,), (60,)]},\n",
       "             verbose=5)</pre><b>In a Jupyter environment, please rerun this cell to show the HTML representation or trust the notebook. <br />On GitHub, the HTML representation is unable to render, please try loading this page with nbviewer.org.</b></div><div class=\"sk-container\" hidden><div class=\"sk-item sk-dashed-wrapped\"><div class=\"sk-label-container\"><div class=\"sk-label sk-toggleable\"><input class=\"sk-toggleable__control sk-hidden--visually\" id=\"sk-estimator-id-4\" type=\"checkbox\" ><label for=\"sk-estimator-id-4\" class=\"sk-toggleable__label sk-toggleable__label-arrow\">GridSearchCV</label><div class=\"sk-toggleable__content\"><pre>GridSearchCV(cv=RepeatedKFold(n_repeats=5, n_splits=10, random_state=42),\n",
       "             estimator=MLPRegressor(activation=&#x27;logistic&#x27;,\n",
       "                                    learning_rate=&#x27;adaptive&#x27;,\n",
       "                                    max_iter=100000000, random_state=42,\n",
       "                                    solver=&#x27;sgd&#x27;),\n",
       "             n_jobs=-1,\n",
       "             param_grid={&#x27;alpha&#x27;: [0.1, 1],\n",
       "                         &#x27;hidden_layer_sizes&#x27;: [(40,), (50,), (60,)]},\n",
       "             verbose=5)</pre></div></div></div><div class=\"sk-parallel\"><div class=\"sk-parallel-item\"><div class=\"sk-item\"><div class=\"sk-label-container\"><div class=\"sk-label sk-toggleable\"><input class=\"sk-toggleable__control sk-hidden--visually\" id=\"sk-estimator-id-5\" type=\"checkbox\" ><label for=\"sk-estimator-id-5\" class=\"sk-toggleable__label sk-toggleable__label-arrow\">estimator: MLPRegressor</label><div class=\"sk-toggleable__content\"><pre>MLPRegressor(activation=&#x27;logistic&#x27;, learning_rate=&#x27;adaptive&#x27;,\n",
       "             max_iter=100000000, random_state=42, solver=&#x27;sgd&#x27;)</pre></div></div></div><div class=\"sk-serial\"><div class=\"sk-item\"><div class=\"sk-estimator sk-toggleable\"><input class=\"sk-toggleable__control sk-hidden--visually\" id=\"sk-estimator-id-6\" type=\"checkbox\" ><label for=\"sk-estimator-id-6\" class=\"sk-toggleable__label sk-toggleable__label-arrow\">MLPRegressor</label><div class=\"sk-toggleable__content\"><pre>MLPRegressor(activation=&#x27;logistic&#x27;, learning_rate=&#x27;adaptive&#x27;,\n",
       "             max_iter=100000000, random_state=42, solver=&#x27;sgd&#x27;)</pre></div></div></div></div></div></div></div></div></div></div>"
      ],
      "text/plain": [
       "GridSearchCV(cv=RepeatedKFold(n_repeats=5, n_splits=10, random_state=42),\n",
       "             estimator=MLPRegressor(activation='logistic',\n",
       "                                    learning_rate='adaptive',\n",
       "                                    max_iter=100000000, random_state=42,\n",
       "                                    solver='sgd'),\n",
       "             n_jobs=-1,\n",
       "             param_grid={'alpha': [0.1, 1],\n",
       "                         'hidden_layer_sizes': [(40,), (50,), (60,)]},\n",
       "             verbose=5)"
      ]
     },
     "execution_count": 11,
     "metadata": {},
     "output_type": "execute_result"
    }
   ],
   "source": [
    "#обучение модели\n",
    "grid_search.fit(X_train_scaled, y_train)"
   ]
  },
  {
   "cell_type": "code",
   "execution_count": 12,
   "id": "72ca4d5f",
   "metadata": {},
   "outputs": [
    {
     "name": "stdout",
     "output_type": "stream",
     "text": [
      "Наилучшие значения параметров: {'alpha': 1, 'hidden_layer_sizes': (50,)}\n",
      "Наилучшее значение кросс-валидационной правильности: 0.75\n"
     ]
    }
   ],
   "source": [
    "print(\"Наилучшие значения параметров: {}\".format(grid_search.best_params_))\n",
    "print(\"Наилучшее значение кросс-валидационной правильности: {:.2f}\".format(grid_search.best_score_))"
   ]
  },
  {
   "cell_type": "code",
   "execution_count": 55,
   "id": "9b8ed241",
   "metadata": {},
   "outputs": [
    {
     "name": "stdout",
     "output_type": "stream",
     "text": [
      "Правильность на тестовом наборе с наилучшими параметрами R^2:\n",
      "0.5845508070420029\n",
      "Прогнозы:\n",
      "[ 15.07675253  54.4156549   78.4897741   17.11330176  15.99954978\n",
      "  47.33791499  32.69776854 127.07736949  31.00030243  17.60059619\n",
      "  82.80085522  79.9564905   57.50399941 113.05877126  45.45339983\n",
      "  41.73080548  85.11662546  29.50793583  52.43599749  86.77759716\n",
      "  66.31271434  47.68561561  72.21531566  47.37434283  85.33152504\n",
      "  19.03138984  83.17617107  70.24878374  73.55490019  54.05327569]\n"
     ]
    }
   ],
   "source": [
    "#запоминаем лучшее параметры модели, подобранные на предыдущем шаге\n",
    "best_parameters = grid_search.best_params_\n",
    "#заново строим и обучаем модель уже на лучших параметрах\n",
    "mlp = MLPRegressor(max_iter=100000000, random_state=42, **best_parameters)\n",
    "mlp.fit(X_train_scaled, y_train)\n",
    "#оцениваем качество модели на отмасштабированном тестовом наборе\n",
    "test_score = mlp.score(X_test_scaled, y_test)\n",
    "#предсказываем класс для каждого элемента отмасштабированного тестового набора данных\n",
    "prediction = mlp.predict(X_test_scaled)\n",
    "print(\"Правильность на тестовом наборе с наилучшими параметрами R^2:\\n{}\".format(test_score))\n",
    "print(\"Прогнозы:\\n{}\".format(prediction))\n"
   ]
  },
  {
   "cell_type": "code",
   "execution_count": 56,
   "id": "067b6481",
   "metadata": {},
   "outputs": [
    {
     "name": "stdout",
     "output_type": "stream",
     "text": [
      "Отмасштабированная выборка новых данных:\n",
      "[[0.         0.30943513 1.         0.67342799 0.00662252]\n",
      " [0.01430487 0.30136561 0.95366795 0.64908722 0.02649007]\n",
      " [0.01430487 0.28553693 0.90733591 0.65720081 0.03311258]\n",
      " [0.01430487 0.26970826 0.86229086 0.68762677 0.01986755]\n",
      " [0.01430487 0.26970826 0.83526384 0.72008114 0.        ]]\n",
      "Прогнозы для новых данных:\n",
      "[ 91.03631706  85.56242904  87.71768937  86.80588726  85.21341302\n",
      "  80.63223843  82.03465891  89.02790845 106.97762492 113.05877126\n",
      "  94.75188084  77.62472372  79.9564905   71.64425671  68.41549711\n",
      "  71.54825678  80.37958637  68.57074696  54.4156549   45.45339983]\n",
      "Спрогнозированные вероятности для новых данных:\n",
      "0.5845508070420029\n"
     ]
    }
   ],
   "source": [
    "#загружаем новый данные\n",
    "file_list = ['learning.csv']\n",
    "data_set = pd.concat([pd.read_csv(f) for f in file_list], ignore_index=True)\n",
    "X_new = data_set[['PS', 'PZ', 'GK', 'NGK', 'DS']]\n",
    "X_new_scaled = scaler.transform(X_new)\n",
    "y_new = data_set[['DEPT']]\n",
    "print(\"Отмасштабированная выборка новых данных:\\n{}\".format(X_new_scaled[:5]))\n",
    "\n",
    "#предсказываем класс для каждого элемента отмасштабированного нового набора данных\n",
    "prediction_new = mlp.predict(X_new_scaled)\n",
    "new_score = mlp.score(X_test_scaled, y_test)\n",
    "#предсказываем вероятность выбора того или иного класса (чем больше число, тем вероятнее этот класс)\n",
    "print(\"Прогнозы для новых данных:\\n{}\".format(prediction_new[:20]))\n",
    "print(\"Спрогнозированные вероятности для новых данных:\\n{}\".format(new_score))"
   ]
  },
  {
   "cell_type": "code",
   "execution_count": null,
   "id": "051f219d",
   "metadata": {},
   "outputs": [],
   "source": []
  }
 ],
 "metadata": {
  "kernelspec": {
   "display_name": "env_kernel",
   "language": "python",
   "name": "env_kernel"
  },
  "language_info": {
   "codemirror_mode": {
    "name": "ipython",
    "version": 3
   },
   "file_extension": ".py",
   "mimetype": "text/x-python",
   "name": "python",
   "nbconvert_exporter": "python",
   "pygments_lexer": "ipython3",
   "version": "3.10.7"
  }
 },
 "nbformat": 4,
 "nbformat_minor": 5
}
